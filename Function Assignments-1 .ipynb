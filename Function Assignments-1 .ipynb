{
 "cells": [
  {
   "cell_type": "code",
   "execution_count": 1,
   "metadata": {},
   "outputs": [],
   "source": [
    "def list():\n",
    "    print(\"AIsufields they are:\")\n",
    "    message=\"AIsufields they are:\"\n",
    "    List=[\"Machnine learning,Neural netwrok,vision,robotics,speech processing,natural language processing\"]\n",
    "    message=\"Machnine learning,Neural netwrok,vision,robotics,speech processing,natural language processing\"\n",
    "    return message"
   ]
  },
  {
   "cell_type": "code",
   "execution_count": 2,
   "metadata": {},
   "outputs": [
    {
     "name": "stdout",
     "output_type": "stream",
     "text": [
      "AIsufields they are:\n"
     ]
    },
    {
     "data": {
      "text/plain": [
       "'Machnine learning,Neural netwrok,vision,robotics,speech processing,natural language processing'"
      ]
     },
     "execution_count": 2,
     "metadata": {},
     "output_type": "execute_result"
    }
   ],
   "source": [
    "list()"
   ]
  },
  {
   "cell_type": "code",
   "execution_count": 3,
   "metadata": {},
   "outputs": [],
   "source": [
    "def oddEven():\n",
    "    num=int(input(\"Enter a number:\"))\n",
    "    if((num%2)==1):\n",
    "        print(\"52452 is odd number\")\n",
    "        message=\"52452 is odd number\"\n",
    "    else:\n",
    "        print(\"52452 is Even number\")\n",
    "        message=\"52452 is Even number\"\n",
    "        return message"
   ]
  },
  {
   "cell_type": "code",
   "execution_count": 4,
   "metadata": {},
   "outputs": [
    {
     "name": "stdout",
     "output_type": "stream",
     "text": [
      "Enter a number:52452\n",
      "52452 is Even number\n"
     ]
    }
   ],
   "source": [
    "message=oddEven()"
   ]
  },
  {
   "cell_type": "code",
   "execution_count": 5,
   "metadata": {},
   "outputs": [],
   "source": [
    "def oddEven():\n",
    "    num=int(input(\"Enter the number\"))\n",
    "    if((num%2)==1):\n",
    "        print(\"odd number\")\n",
    "        message=\"odd number\"\n",
    "    else:\n",
    "        print(\"Even number\")\n",
    "        message=\"Even number\"\n",
    "        return message"
   ]
  },
  {
   "cell_type": "code",
   "execution_count": 6,
   "metadata": {},
   "outputs": [
    {
     "name": "stdout",
     "output_type": "stream",
     "text": [
      "Enter the number4\n",
      "Even number\n"
     ]
    },
    {
     "data": {
      "text/plain": [
       "'Even number'"
      ]
     },
     "execution_count": 6,
     "metadata": {},
     "output_type": "execute_result"
    }
   ],
   "source": [
    "oddEven()"
   ]
  },
  {
   "cell_type": "code",
   "execution_count": 7,
   "metadata": {},
   "outputs": [],
   "source": [
    "def marriageEligibility(Male=21,Female=18):\n",
    "    age=int(input(\"your Genter:\"))\n",
    "\n",
    "    if(Female<18):\n",
    "        print(\"eligible\")\n",
    "        message=\"eligible\"\n",
    "    elif(Male<21):\n",
    "        print(\"eligible\")\n",
    "        message=\"eligible\"\n",
    "    else:\n",
    "        print(\"Not eligible\")\n",
    "        message=\"Not eligible\"\n",
    "    return message"
   ]
  },
  {
   "cell_type": "code",
   "execution_count": 8,
   "metadata": {},
   "outputs": [
    {
     "name": "stdout",
     "output_type": "stream",
     "text": [
      "your Genter:20\n",
      "Not eligible\n"
     ]
    }
   ],
   "source": [
    "message=marriageEligibility()"
   ]
  },
  {
   "cell_type": "code",
   "execution_count": 9,
   "metadata": {},
   "outputs": [],
   "source": [
    "def percentage():\n",
    "    subj1=23\n",
    "    print(\"subject1=\",subj1)\n",
    "    subj2=45\n",
    "    print(\"subject2=\",subj2)\n",
    "    subj3=34\n",
    "    print(\"subject3=\",subj3)\n",
    "    subj4=23\n",
    "    print(\"subject4=\",subj4)\n",
    "    subj5=23\n",
    "    print(\"subject5=\",subj4)\n",
    "    total_marks = subj1 + subj2 + subj3 + subj4 + subj5\n",
    "    print(\"Total Marks:\", total_marks)\n",
    "    \n",
    "    return percentage"
   ]
  },
  {
   "cell_type": "code",
   "execution_count": 10,
   "metadata": {},
   "outputs": [
    {
     "name": "stdout",
     "output_type": "stream",
     "text": [
      "subject1= 23\n",
      "subject2= 45\n",
      "subject3= 34\n",
      "subject4= 23\n",
      "subject5= 23\n",
      "Total Marks: 148\n"
     ]
    }
   ],
   "source": [
    "sub=percentage()"
   ]
  },
  {
   "cell_type": "code",
   "execution_count": 13,
   "metadata": {},
   "outputs": [],
   "source": [
    "def triangle(height, breadth):\n",
    "    print(\"Height:\", height)\n",
    "    print(\"Breadth:\", breadth)\n",
    "    area = (height * breadth) / 2\n",
    "    print(\"Area of triangle:\", area)\n",
    "    return area"
   ]
  },
  {
   "cell_type": "code",
   "execution_count": 14,
   "metadata": {},
   "outputs": [
    {
     "name": "stdout",
     "output_type": "stream",
     "text": [
      "Height: 3\n",
      "Breadth: 4\n",
      "Area of triangle: 6.0\n"
     ]
    },
    {
     "data": {
      "text/plain": [
       "6.0"
      ]
     },
     "execution_count": 14,
     "metadata": {},
     "output_type": "execute_result"
    }
   ],
   "source": [
    "triangle(3,4)"
   ]
  },
  {
   "cell_type": "code",
   "execution_count": 15,
   "metadata": {},
   "outputs": [],
   "source": [
    "def addition():\n",
    "    height1 = 3\n",
    "    print(\"Height1:\", height1)\n",
    "    height2 = 4\n",
    "    print(\"Height2:\", height2)\n",
    "    breadth = 45\n",
    "    print(\"Breadth:\", breadth)\n",
    "    add = height1 + height2 + breadth\n",
    "    print(\"Perimeter of triangle:\", add)\n",
    "    return add"
   ]
  },
  {
   "cell_type": "code",
   "execution_count": 16,
   "metadata": {},
   "outputs": [
    {
     "name": "stdout",
     "output_type": "stream",
     "text": [
      "Height1: 3\n",
      "Height2: 4\n",
      "Breadth: 45\n",
      "Perimeter of triangle: 52\n"
     ]
    },
    {
     "data": {
      "text/plain": [
       "52"
      ]
     },
     "execution_count": 16,
     "metadata": {},
     "output_type": "execute_result"
    }
   ],
   "source": [
    "addition()"
   ]
  },
  {
   "cell_type": "code",
   "execution_count": null,
   "metadata": {},
   "outputs": [],
   "source": []
  },
  {
   "cell_type": "code",
   "execution_count": null,
   "metadata": {},
   "outputs": [],
   "source": []
  }
 ],
 "metadata": {
  "kernelspec": {
   "display_name": "Python 3",
   "language": "python",
   "name": "python3"
  },
  "language_info": {
   "codemirror_mode": {
    "name": "ipython",
    "version": 3
   },
   "file_extension": ".py",
   "mimetype": "text/x-python",
   "name": "python",
   "nbconvert_exporter": "python",
   "pygments_lexer": "ipython3",
   "version": "3.7.4"
  }
 },
 "nbformat": 4,
 "nbformat_minor": 2
}
