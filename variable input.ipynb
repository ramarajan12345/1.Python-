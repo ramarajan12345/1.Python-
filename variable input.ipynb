{
 "cells": [
  {
   "cell_type": "code",
   "execution_count": 3,
   "metadata": {},
   "outputs": [
    {
     "name": "stdout",
     "output_type": "stream",
     "text": [
      "the addition of two numbers\n",
      "the number1: 10\n",
      "the number2: 40\n",
      "the answer 50\n"
     ]
    }
   ],
   "source": [
    "print(\"the addition of two numbers\")\n",
    "num1=10\n",
    "print(\"the number1:\",num1)\n",
    "num2=40\n",
    "print(\"the number2:\",num2)\n",
    "print(\"the answer\", num1+num2)"
   ]
  },
  {
   "cell_type": "code",
   "execution_count": null,
   "metadata": {},
   "outputs": [],
   "source": []
  }
 ],
 "metadata": {
  "kernelspec": {
   "display_name": "Python 3",
   "language": "python",
   "name": "python3"
  },
  "language_info": {
   "codemirror_mode": {
    "name": "ipython",
    "version": 3
   },
   "file_extension": ".py",
   "mimetype": "text/x-python",
   "name": "python",
   "nbconvert_exporter": "python",
   "pygments_lexer": "ipython3",
   "version": "3.7.4"
  }
 },
 "nbformat": 4,
 "nbformat_minor": 2
}
